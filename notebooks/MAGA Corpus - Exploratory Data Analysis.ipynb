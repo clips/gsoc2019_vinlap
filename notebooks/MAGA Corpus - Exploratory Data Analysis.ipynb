{
 "cells": [
  {
   "cell_type": "code",
   "execution_count": 1,
   "metadata": {},
   "outputs": [],
   "source": [
    "import pandas as pd\n",
    "import seaborn as sns"
   ]
  },
  {
   "cell_type": "code",
   "execution_count": 2,
   "metadata": {},
   "outputs": [],
   "source": [
    "maga = pd.read_excel(\"the MAGA corpus.xlsx\",index_col=0)"
   ]
  },
  {
   "cell_type": "markdown",
   "metadata": {},
   "source": [
    "### This dataset has 6556 records"
   ]
  },
  {
   "cell_type": "markdown",
   "metadata": {},
   "source": [
    "## Variables"
   ]
  },
  {
   "cell_type": "code",
   "execution_count": 17,
   "metadata": {},
   "outputs": [
    {
     "data": {
      "text/plain": [
       "Index(['ID', 'Tweet', 'Date', 'Author', 'Gender', 'Hashtags', 'Theme', 'Bias',\n",
       "       'Politician', 'Polarity', 'CONCEPTUAL METAPHOR', 'METAPHOR SOURCE',\n",
       "       'METAPHOR TARGET', 'Multiword expressions', 'Speech acts', 'Mood',\n",
       "       'Swear words / offensive language', 'Keywords', 'Other'],\n",
       "      dtype='object')"
      ]
     },
     "execution_count": 17,
     "metadata": {},
     "output_type": "execute_result"
    }
   ],
   "source": [
    "maga.columns"
   ]
  },
  {
   "cell_type": "markdown",
   "metadata": {},
   "source": [
    "### Gender"
   ]
  },
  {
   "cell_type": "code",
   "execution_count": 18,
   "metadata": {},
   "outputs": [
    {
     "data": {
      "text/plain": [
       "male      3389\n",
       "female    1540\n",
       "Name: Gender, dtype: int64"
      ]
     },
     "execution_count": 18,
     "metadata": {},
     "output_type": "execute_result"
    }
   ],
   "source": [
    "maga['Gender'].value_counts()"
   ]
  },
  {
   "cell_type": "markdown",
   "metadata": {},
   "source": [
    "### Theme"
   ]
  },
  {
   "cell_type": "code",
   "execution_count": 27,
   "metadata": {},
   "outputs": [
    {
     "data": {
      "text/plain": [
       "Republicans vs Democrats    2846\n",
       "Tories vs Labour            1577\n",
       "Canadian politics           1322\n",
       "Brexit                       409\n",
       "Australian politics          357\n",
       "New Zealand politics          44\n",
       "Name: Theme, dtype: int64"
      ]
     },
     "execution_count": 27,
     "metadata": {},
     "output_type": "execute_result"
    }
   ],
   "source": [
    "maga['Theme'].value_counts()"
   ]
  },
  {
   "cell_type": "code",
   "execution_count": 25,
   "metadata": {},
   "outputs": [
    {
     "data": {
      "text/html": [
       "<div>\n",
       "<style scoped>\n",
       "    .dataframe tbody tr th:only-of-type {\n",
       "        vertical-align: middle;\n",
       "    }\n",
       "\n",
       "    .dataframe tbody tr th {\n",
       "        vertical-align: top;\n",
       "    }\n",
       "\n",
       "    .dataframe thead th {\n",
       "        text-align: right;\n",
       "    }\n",
       "</style>\n",
       "<table border=\"1\" class=\"dataframe\">\n",
       "  <thead>\n",
       "    <tr style=\"text-align: right;\">\n",
       "      <th></th>\n",
       "      <th></th>\n",
       "      <th>ID</th>\n",
       "    </tr>\n",
       "    <tr>\n",
       "      <th>Theme</th>\n",
       "      <th>Bias</th>\n",
       "      <th></th>\n",
       "    </tr>\n",
       "  </thead>\n",
       "  <tbody>\n",
       "    <tr>\n",
       "      <th rowspan=\"2\" valign=\"top\">Australian politics</th>\n",
       "      <th>left-wing</th>\n",
       "      <td>316</td>\n",
       "    </tr>\n",
       "    <tr>\n",
       "      <th>right-wing</th>\n",
       "      <td>18</td>\n",
       "    </tr>\n",
       "    <tr>\n",
       "      <th rowspan=\"2\" valign=\"top\">Brexit</th>\n",
       "      <th>left-wing</th>\n",
       "      <td>240</td>\n",
       "    </tr>\n",
       "    <tr>\n",
       "      <th>right-wing</th>\n",
       "      <td>67</td>\n",
       "    </tr>\n",
       "    <tr>\n",
       "      <th rowspan=\"2\" valign=\"top\">Canadian politics</th>\n",
       "      <th>left-wing</th>\n",
       "      <td>193</td>\n",
       "    </tr>\n",
       "    <tr>\n",
       "      <th>right-wing</th>\n",
       "      <td>1072</td>\n",
       "    </tr>\n",
       "    <tr>\n",
       "      <th rowspan=\"2\" valign=\"top\">New Zealand politics</th>\n",
       "      <th>left-wing</th>\n",
       "      <td>19</td>\n",
       "    </tr>\n",
       "    <tr>\n",
       "      <th>right-wing</th>\n",
       "      <td>20</td>\n",
       "    </tr>\n",
       "    <tr>\n",
       "      <th rowspan=\"2\" valign=\"top\">Republicans vs Democrats</th>\n",
       "      <th>left-wing</th>\n",
       "      <td>1664</td>\n",
       "    </tr>\n",
       "    <tr>\n",
       "      <th>right-wing</th>\n",
       "      <td>1118</td>\n",
       "    </tr>\n",
       "    <tr>\n",
       "      <th rowspan=\"2\" valign=\"top\">Tories vs Labour</th>\n",
       "      <th>left-wing</th>\n",
       "      <td>1185</td>\n",
       "    </tr>\n",
       "    <tr>\n",
       "      <th>right-wing</th>\n",
       "      <td>174</td>\n",
       "    </tr>\n",
       "  </tbody>\n",
       "</table>\n",
       "</div>"
      ],
      "text/plain": [
       "                                       ID\n",
       "Theme                    Bias            \n",
       "Australian politics      left-wing    316\n",
       "                         right-wing    18\n",
       "Brexit                   left-wing    240\n",
       "                         right-wing    67\n",
       "Canadian politics        left-wing    193\n",
       "                         right-wing  1072\n",
       "New Zealand politics     left-wing     19\n",
       "                         right-wing    20\n",
       "Republicans vs Democrats left-wing   1664\n",
       "                         right-wing  1118\n",
       "Tories vs Labour         left-wing   1185\n",
       "                         right-wing   174"
      ]
     },
     "execution_count": 25,
     "metadata": {},
     "output_type": "execute_result"
    }
   ],
   "source": [
    "maga[['Theme','Bias','ID']].groupby(['Theme','Bias']).count()"
   ]
  },
  {
   "cell_type": "markdown",
   "metadata": {},
   "source": [
    "## Politician"
   ]
  },
  {
   "cell_type": "code",
   "execution_count": 29,
   "metadata": {},
   "outputs": [
    {
     "data": {
      "text/plain": [
       "Peter Georgiou        1\n",
       "Jordon Steele-John    1\n",
       "Name: Politician, dtype: int64"
      ]
     },
     "execution_count": 29,
     "metadata": {},
     "output_type": "execute_result"
    }
   ],
   "source": [
    "maga['Politician'].value_counts()"
   ]
  },
  {
   "cell_type": "markdown",
   "metadata": {},
   "source": [
    "## Polarity"
   ]
  },
  {
   "cell_type": "code",
   "execution_count": 36,
   "metadata": {},
   "outputs": [
    {
     "data": {
      "text/plain": [
       "<matplotlib.axes._subplots.AxesSubplot at 0x22b85763278>"
      ]
     },
     "execution_count": 36,
     "metadata": {},
     "output_type": "execute_result"
    },
    {
     "data": {
      "image/png": "[encoded data removed]",
      "text/plain": [
       "<Figure size 432x288 with 1 Axes>"
      ]
     },
     "metadata": {
      "needs_background": "light"
     },
     "output_type": "display_data"
    }
   ],
   "source": [
    "sns.distplot(maga['Polarity'].fillna(0))"
   ]
  },
  {
   "cell_type": "markdown",
   "metadata": {},
   "source": [
    "## Conceptual Metaphor"
   ]
  },
  {
   "cell_type": "code",
   "execution_count": 37,
   "metadata": {},
   "outputs": [
    {
     "data": {
      "text/plain": [
       "TRUMP’S PRESIDENCY IS A TV SHOW                   1\n",
       "FEMINISM IS A MONSTER                             1\n",
       "BREXITERS ARE (SCANDINAVIAN) TROLLS               1\n",
       "AMERICA IS A SCORSESE MOVIE                       1\n",
       "DONALD TRUMP IS AN ANIMAL                         1\n",
       "JUSTIN TRUDEAU’S POLITICS IS A FAULTY MACHINE.    1\n",
       "THERESA MAY’S BREXIT POLITICS IS A GLACIER        1\n",
       "THE BBC IS POISON                                 1\n",
       "THE JOHNSON-MAY RELATIONSHIP IS A FIGHT           1\n",
       "POLITICS IS WAR                                   1\n",
       "POLITICS IS A GAME                                1\n",
       "Name: CONCEPTUAL METAPHOR, dtype: int64"
      ]
     },
     "execution_count": 37,
     "metadata": {},
     "output_type": "execute_result"
    }
   ],
   "source": [
    "maga['CONCEPTUAL METAPHOR'].value_counts()"
   ]
  },
  {
   "cell_type": "code",
   "execution_count": 38,
   "metadata": {},
   "outputs": [
    {
     "data": {
      "text/plain": [
       "assertive                                       3475\n",
       "expressive                                      1122\n",
       "expressive, assertive                            765\n",
       "assertive, directive                             289\n",
       "assertive, expressive                            231\n",
       "directive                                        143\n",
       "expressive, commissive                           106\n",
       "expressive, assertive, directive                  89\n",
       "expressive, directive                             81\n",
       "directive, assertive                              54\n",
       "assertive, commissive                             43\n",
       "commissive                                        22\n",
       "directive, expressive                             18\n",
       "expressive, assertive, commissive                 14\n",
       "expressive, commissive, assertive                  7\n",
       "directive, commissive                              7\n",
       "commissive, assertive                              7\n",
       "expressive, commissive, directive                  6\n",
       "assertive, expressive, commissive                  6\n",
       "expressive, directive, assertive                   6\n",
       "assertive, directive, commissive                   6\n",
       "assertive, metalocutionary                         5\n",
       "assertive, commissive, directive                   3\n",
       "assertive, expressive, directive                   3\n",
       "commissive, expressive                             3\n",
       "assertive, directive, expressive                   3\n",
       "assertive, commissive, expressive                  3\n",
       "expressive, assertive, metalocutionary             2\n",
       "expressive, directive, commissive                  2\n",
       "commissive, directive, assertive                   1\n",
       "declaration                                        1\n",
       "expressive, metalocutionary, assertive             1\n",
       "directive, metalocutionary                         1\n",
       "expressive, assertive, commissive, directive       1\n",
       "assertive, declaration                             1\n",
       "assertive, expressive, metalocutionary             1\n",
       "asssertive                                         1\n",
       "expressive, assertive, directive, commissive       1\n",
       "expressive, metalocutionary                        1\n",
       "assertive, anger                                   1\n",
       "expressive, commsissive                            1\n",
       "directive, expressive, commissive                  1\n",
       "assertive, directive, expressive, commissive       1\n",
       "expressive, directive, assertive, commissive       1\n",
       "directive, assertive, metalocutionary              1\n",
       "expressive, assertive, commisive                   1\n",
       "assertive, d                                       1\n",
       "Name: Speech acts, dtype: int64"
      ]
     },
     "execution_count": 38,
     "metadata": {},
     "output_type": "execute_result"
    }
   ],
   "source": [
    "maga['Speech acts'].value_counts()"
   ]
  },
  {
   "cell_type": "code",
   "execution_count": 7,
   "metadata": {},
   "outputs": [
    {
     "data": {
      "text/plain": [
       "Republicans vs Democrats    2846\n",
       "Tories vs Labour            1577\n",
       "Canadian politics           1322\n",
       "Brexit                       409\n",
       "Australian politics          357\n",
       "New Zealand politics          44\n",
       "Name: Theme, dtype: int64"
      ]
     },
     "execution_count": 7,
     "metadata": {},
     "output_type": "execute_result"
    }
   ],
   "source": [
    "maga['Theme'].value_counts()"
   ]
  },
  {
   "cell_type": "code",
   "execution_count": 8,
   "metadata": {},
   "outputs": [
    {
     "data": {
      "text/html": [
       "<div>\n",
       "<style scoped>\n",
       "    .dataframe tbody tr th:only-of-type {\n",
       "        vertical-align: middle;\n",
       "    }\n",
       "\n",
       "    .dataframe tbody tr th {\n",
       "        vertical-align: top;\n",
       "    }\n",
       "\n",
       "    .dataframe thead th {\n",
       "        text-align: right;\n",
       "    }\n",
       "</style>\n",
       "<table border=\"1\" class=\"dataframe\">\n",
       "  <thead>\n",
       "    <tr style=\"text-align: right;\">\n",
       "      <th></th>\n",
       "      <th></th>\n",
       "      <th>ID</th>\n",
       "    </tr>\n",
       "    <tr>\n",
       "      <th>Theme</th>\n",
       "      <th>Bias</th>\n",
       "      <th></th>\n",
       "    </tr>\n",
       "  </thead>\n",
       "  <tbody>\n",
       "    <tr>\n",
       "      <th rowspan=\"2\" valign=\"top\">Australian politics</th>\n",
       "      <th>left-wing</th>\n",
       "      <td>316</td>\n",
       "    </tr>\n",
       "    <tr>\n",
       "      <th>right-wing</th>\n",
       "      <td>18</td>\n",
       "    </tr>\n",
       "    <tr>\n",
       "      <th rowspan=\"2\" valign=\"top\">Brexit</th>\n",
       "      <th>left-wing</th>\n",
       "      <td>240</td>\n",
       "    </tr>\n",
       "    <tr>\n",
       "      <th>right-wing</th>\n",
       "      <td>67</td>\n",
       "    </tr>\n",
       "    <tr>\n",
       "      <th rowspan=\"2\" valign=\"top\">Canadian politics</th>\n",
       "      <th>left-wing</th>\n",
       "      <td>193</td>\n",
       "    </tr>\n",
       "    <tr>\n",
       "      <th>right-wing</th>\n",
       "      <td>1072</td>\n",
       "    </tr>\n",
       "    <tr>\n",
       "      <th rowspan=\"2\" valign=\"top\">New Zealand politics</th>\n",
       "      <th>left-wing</th>\n",
       "      <td>19</td>\n",
       "    </tr>\n",
       "    <tr>\n",
       "      <th>right-wing</th>\n",
       "      <td>20</td>\n",
       "    </tr>\n",
       "    <tr>\n",
       "      <th rowspan=\"2\" valign=\"top\">Republicans vs Democrats</th>\n",
       "      <th>left-wing</th>\n",
       "      <td>1664</td>\n",
       "    </tr>\n",
       "    <tr>\n",
       "      <th>right-wing</th>\n",
       "      <td>1118</td>\n",
       "    </tr>\n",
       "    <tr>\n",
       "      <th rowspan=\"2\" valign=\"top\">Tories vs Labour</th>\n",
       "      <th>left-wing</th>\n",
       "      <td>1185</td>\n",
       "    </tr>\n",
       "    <tr>\n",
       "      <th>right-wing</th>\n",
       "      <td>174</td>\n",
       "    </tr>\n",
       "  </tbody>\n",
       "</table>\n",
       "</div>"
      ],
      "text/plain": [
       "                                       ID\n",
       "Theme                    Bias            \n",
       "Australian politics      left-wing    316\n",
       "                         right-wing    18\n",
       "Brexit                   left-wing    240\n",
       "                         right-wing    67\n",
       "Canadian politics        left-wing    193\n",
       "                         right-wing  1072\n",
       "New Zealand politics     left-wing     19\n",
       "                         right-wing    20\n",
       "Republicans vs Democrats left-wing   1664\n",
       "                         right-wing  1118\n",
       "Tories vs Labour         left-wing   1185\n",
       "                         right-wing   174"
      ]
     },
     "execution_count": 8,
     "metadata": {},
     "output_type": "execute_result"
    }
   ],
   "source": [
    "maga[['Theme','Bias','ID']].groupby(['Theme','Bias']).count()"
   ]
  }
 ],
 "metadata": {
  "kernelspec": {
   "display_name": "Python 3",
   "language": "python",
   "name": "python3"
  },
  "language_info": {
   "codemirror_mode": {
    "name": "ipython",
    "version": 3
   },
   "file_extension": ".py",
   "mimetype": "text/x-python",
   "name": "python",
   "nbconvert_exporter": "python",
   "pygments_lexer": "ipython3",
   "version": "3.5.2"
  }
 },
 "nbformat": 4,
 "nbformat_minor": 2
}
