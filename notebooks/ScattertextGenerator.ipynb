{
 "cells": [
  {
   "cell_type": "code",
   "execution_count": 22,
   "metadata": {},
   "outputs": [],
   "source": [
    "import re\n",
    "import pandas as pd\n",
    "from scattertext import SampleCorpora, whitespace_nlp_with_sentences\n",
    "from scattertext import produce_scattertext_explorer\n",
    "from scattertext.CorpusFromPandas import CorpusFromPandas\n",
    "from scattertext.termscoring.ScaledFScore import ScaledFScorePresets\n",
    "\n",
    "# regular expression to clean the tweet\n",
    "RE_EMOJI = re.compile('[\\U00010000-\\U0010ffff]', flags=re.UNICODE)\n",
    "\n",
    "#removing emojis\n",
    "stopwords = [\"i\", \"me\", \"my\", \"myself\", \"we\", \"our\", \"ours\", \"ourselves\", \"you\", \"your\", \"yours\", \"yourself\", \"yourselves\", \"he\", \"him\", \"his\", \"himself\", \"she\", \"her\", \"hers\", \"herself\", \"it\", \"its\", \"itself\", \"they\", \"them\", \"their\", \"theirs\", \"themselves\", \"what\", \"which\", \"who\", \"whom\", \"this\", \"that\", \"these\", \"those\", \"am\", \"is\", \"are\", \"was\", \"were\", \"be\", \"been\", \"being\", \"have\", \"has\", \"had\", \"having\", \"do\", \"does\", \"did\", \"doing\", \"a\", \"an\", \"the\", \"and\", \"but\", \"if\", \"or\", \"because\", \"as\", \"until\", \"while\", \"of\", \"at\", \"by\", \"for\", \"with\", \"about\", \"against\", \"between\", \"into\", \"through\", \"during\", \"before\", \"after\", \"above\", \"below\", \"to\", \"from\", \"up\", \"down\", \"in\", \"out\", \"on\", \"off\", \"over\", \"under\", \"again\", \"further\", \"then\", \"once\", \"here\", \"there\", \"when\", \"where\", \"why\", \"how\", \"all\", \"any\", \"both\", \"each\", \"few\", \"more\", \"most\", \"other\", \"some\", \"such\", \"no\", \"nor\", \"not\", \"only\", \"own\", \"same\", \"so\", \"than\", \"too\", \"very\", \"s\", \"t\", \"can\", \"will\", \"just\", \"don\", \"should\", \"now\"]\n",
    "def strip_emoji(text):\n",
    "    return RE_EMOJI.sub(r'', text)\n",
    "\n",
    "#removing hashtags, urls and mentions\n",
    "def clean_tweet(tweet):\n",
    "    words = []\n",
    "    for element in tweet.split():\n",
    "        if not (element.startswith(\"#\") or element.startswith(\"http\") or element.startswith(\"@\")) :\n",
    "            if element not in stopwords:\n",
    "                words.append(element)\n",
    "    return strip_emoji(\" \".join(words))\n",
    "\n",
    "# ==== USE THIS FUNCTIONS TO GENERATE YOUR SCATTERTEXTS =====\n",
    "def generate_scatterplot_by_party(theme,right_party,left_party,right_cat,left_cat,output):\n",
    "    #open the dataset\n",
    "    maga = pd.read_excel(\"the MAGA corpus.xlsx\",index_col=0)\n",
    "    #selecting the features that we want to use\n",
    "    maga = maga[[\"Tweet\",\"Author\",\"Theme\",\"Bias\"]]\n",
    "    #======= HERE YOU CHANGE THE TOPIC YOU WANT TO USE TO GENERATE ==============\n",
    "    repvsdem = maga[maga[\"Theme\"]==theme]\n",
    "    \n",
    "    # processing the data\n",
    "    repvsdem[\"Bias\"] = repvsdem[\"Bias\"].apply(lambda x: right_party if x == \"right-wing\" else left_party)\n",
    "    repvsdem[\"Tweet\"] = repvsdem[\"Tweet\"].apply(clean_tweet)\n",
    "    repvsdem[\"Author\"] = repvsdem[\"Author\"].apply(lambda x: str(x))\n",
    "\n",
    "    \n",
    "    cleaned_repvsdem = repvsdem.reset_index()[[\"Tweet\",\"Author\",\"Bias\"]].rename(columns={\"Tweet\":\"text\",\"Author\":\"author\",\"Bias\":\"party\"})\n",
    "    \n",
    "    # reading the dataset with scattertext library\n",
    "    # in the category parameter you enter the binary categorical feature you have chosen\n",
    "    corpus = CorpusFromPandas(cleaned_repvsdem,\n",
    "                              category_col='party',\n",
    "                              text_col='text',\n",
    "                              nlp=whitespace_nlp_with_sentences).build()\n",
    "    \n",
    "    #creates the scattertext plot\n",
    "    html = produce_scattertext_explorer(\n",
    "        corpus,\n",
    "        category=left_party,\n",
    "        category_name=left_cat,\n",
    "        not_category_name=right_cat,\n",
    "        minimum_term_frequency=5,\n",
    "        pmi_threshold_coefficient=8,\n",
    "        width_in_pixels=1000,\n",
    "        metadata=cleaned_repvsdem['author'],\n",
    "        #term_scorer=ScaledFScorePresets(one_to_neg_one=True, beta=1),\n",
    "        d3_scale_chromatic_url='https://cdn.jsdelivr.net/npm/d3-scale-chromatic@1.3.3/dist/d3-scale-chromatic.min.js',\n",
    "        d3_url='https://cdnjs.cloudflare.com/ajax/libs/d3/4.6.0/d3.min.js',\n",
    "    )\n",
    "\n",
    "    open(output, 'wb').write(html.encode('utf-8'))\n",
    "    print('Open %s in Chrome or Firefox.'%output)"
   ]
  },
  {
   "cell_type": "code",
   "execution_count": 3,
   "metadata": {},
   "outputs": [
    {
     "name": "stdout",
     "output_type": "stream",
     "text": [
      "Open ../results/scattertexts/repvsdem.html in Chrome or Firefox.\n"
     ]
    }
   ],
   "source": [
    "generate_scatterplot_by_party(\"Republicans vs Democrats\",\"republican\",\"democrat\",'Republican','Democratic','../results/scattertexts/repvsdem.html')"
   ]
  },
  {
   "cell_type": "code",
   "execution_count": 4,
   "metadata": {},
   "outputs": [
    {
     "name": "stdout",
     "output_type": "stream",
     "text": [
      "Open ../results/scattertexts/torvslab.html in Chrome or Firefox.\n"
     ]
    }
   ],
   "source": [
    "generate_scatterplot_by_party(\"Tories vs Labour\",\"tories\",\"democrat\",'Tories','Labour','../results/scattertexts/torvslab.html')"
   ]
  },
  {
   "cell_type": "code",
   "execution_count": 6,
   "metadata": {},
   "outputs": [
    {
     "name": "stdout",
     "output_type": "stream",
     "text": [
      "Open ../results/scattertexts/brexit.html in Chrome or Firefox.\n"
     ]
    }
   ],
   "source": [
    "generate_scatterplot_by_party(\"Brexit\",\"right\",\"left\",'Right-wing','Left-wing','../results/scattertexts/brexit.html')"
   ]
  },
  {
   "cell_type": "code",
   "execution_count": 7,
   "metadata": {},
   "outputs": [
    {
     "name": "stdout",
     "output_type": "stream",
     "text": [
      "Open ../results/scattertexts/new-zealand.html in Chrome or Firefox.\n"
     ]
    }
   ],
   "source": [
    "generate_scatterplot_by_party(\"New Zealand politics\",\"right\",\"left\",'Right-wing','Left-wing','../results/scattertexts/new-zealand.html')"
   ]
  },
  {
   "cell_type": "code",
   "execution_count": 25,
   "metadata": {},
   "outputs": [
    {
     "name": "stdout",
     "output_type": "stream",
     "text": [
      "Open ../results/scattertexts/canada.html in Chrome or Firefox.\n"
     ]
    }
   ],
   "source": [
    "generate_scatterplot_by_party(\"Brexit\",\"right\",\"left\",'Right-wing','Left-wing','../results/scattertexts/canada.html')"
   ]
  }
 ],
 "metadata": {
  "kernelspec": {
   "display_name": "Python 3",
   "language": "python",
   "name": "python3"
  },
  "language_info": {
   "codemirror_mode": {
    "name": "ipython",
    "version": 3
   },
   "file_extension": ".py",
   "mimetype": "text/x-python",
   "name": "python",
   "nbconvert_exporter": "python",
   "pygments_lexer": "ipython3",
   "version": "3.5.2"
  }
 },
 "nbformat": 4,
 "nbformat_minor": 2
}
